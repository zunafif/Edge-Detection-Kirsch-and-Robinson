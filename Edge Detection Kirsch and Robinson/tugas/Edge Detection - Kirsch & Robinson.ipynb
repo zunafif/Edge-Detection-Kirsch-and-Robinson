{
 "cells": [
  {
   "cell_type": "code",
   "execution_count": 10,
   "metadata": {},
   "outputs": [],
   "source": [
    "import sys\n",
    "import cv2\n",
    "import numpy as np\n",
    "np.set_printoptions(threshold=sys.maxsize)\n",
    "from matplotlib import pyplot as plt  "
   ]
  },
  {
   "cell_type": "code",
   "execution_count": 11,
   "metadata": {},
   "outputs": [],
   "source": [
    "image = cv2.imread('sampel.jpeg',0)\n",
    "image = cv2.resize(image,(800,800))"
   ]
  },
  {
   "cell_type": "code",
   "execution_count": 12,
   "metadata": {},
   "outputs": [],
   "source": [
    "def kirsch(image):\n",
    "    x,y = image.shape\n",
    "    list=[]\n",
    "    kirsch = np.zeros((x,y))\n",
    "    for i in range(2,x-1):\n",
    "        for j in range(2,y-1):\n",
    "            d1 = np.square((-3) * image[i - 1, j - 1] - 3 * image[i - 1, j] + 5 * image[i - 1, j + 1] -\n",
    "                  3 * image[i, j - 1] + 5 * image[i, j + 1] - 3 * image[i + 1, j - 1] -\n",
    "                  3 * image[i + 1, j] + 5 * image[i + 1, j + 1])\n",
    "            d2 = np.square((-3) * image[i - 1, j - 1] + 5 * image[i - 1, j] + 5 * image[i - 1, j + 1] -\n",
    "                  3 * image[i, j - 1] + 5 * image[i, j + 1] - 3 * image[i + 1, j - 1] -\n",
    "                  3 * image[i + 1, j] - 3 * image[i + 1, j + 1])\n",
    "            d3 = np.square(5 * image[i - 1, j - 1] + 5 * image[i - 1, j] + 5 * image[i - 1, j + 1] -\n",
    "                  3 * image[i, j - 1] - 3 * image[i, j + 1] - 3 * image[i + 1, j - 1] -\n",
    "                  3 * image[i + 1, j] - 3 * image[i + 1, j + 1])\n",
    "            d4 = np.square(5 * image[i - 1, j - 1] + 5 * image[i - 1, j] - 3 * image[i - 1, j + 1] +\n",
    "                  5 * image[i, j - 1] - 3 * image[i, j + 1] - 3 * image[i + 1, j - 1] -\n",
    "                  3 * image[i + 1, j] - 3 * image[i + 1, j + 1])\n",
    "            d5 = np.square(5 * image[i - 1, j - 1] - 3 * image[i - 1, j] - 3 * image[i - 1, j + 1] +\n",
    "                  5 * image[i, j - 1] - 3 * image[i, j + 1] + 5 * image[i + 1, j - 1] -\n",
    "                  3 * image[i + 1, j] - 3 * image[i + 1, j + 1])\n",
    "            d6 = np.square((-3) * image[i - 1, j - 1] - 3 * image[i - 1, j] - 3 * image[i - 1, j + 1] +\n",
    "                  5 * image[i, j - 1] - 3 * image[i, j + 1] + 5 * image[i + 1, j - 1] +\n",
    "                  5 * image[i + 1, j] - 3 * image[i + 1, j + 1])\n",
    "            d7 = np.square((-3) * image[i - 1, j - 1] - 3 * image[i - 1, j] - 3 * image[i - 1, j + 1] - \n",
    "                  3 * image[i, j - 1] - 3 * image[i, j + 1] + 5 * image[i + 1, j - 1] +\n",
    "                  5 * image[i + 1, j] + 5 * image[i + 1, j + 1])\n",
    "            d8 = np.square((-3) * image[i - 1, j - 1] - 3 * image[i - 1, j] - 3 * image[i - 1, j + 1] -\n",
    "                  3 * image[i, j - 1] + 5 * image[i, j + 1] - 3 * image[i + 1, j - 1] +\n",
    "                  5 * image[i + 1, j] + 5 * image[i + 1, j + 1])\n",
    "            \n",
    "            list=[d1, d2, d3, d4, d5, d6, d7, d8]\n",
    "            kirsch[i,j]= int(np.sqrt(max(list)))\n",
    "                         \n",
    "    for i in range(x):\n",
    "        for j in range(y):\n",
    "            if kirsch[i,j]>127:\n",
    "                kirsch[i,j]=255\n",
    "            else:\n",
    "                kirsch[i,j]=0\n",
    "    return kirsch"
   ]
  },
  {
   "cell_type": "code",
   "execution_count": 13,
   "metadata": {},
   "outputs": [],
   "source": [
    "def robinson(image):\n",
    "    m,n = image.shape\n",
    "    list=[]\n",
    "    robinson = np.zeros((m,n))\n",
    "    for i in range(2,m-1):\n",
    "        for j in range(2,n-1):\n",
    "            m1 = np.square((-1) * image[i - 1, j - 1] + 1 * image[i - 1, j + 1] - \n",
    "                  2 * image[i, j - 1] + 2 * image[i, j + 1] - 1 * image[i + 1, j - 1] + 1 * image[i + 1, j + 1])\n",
    "            \n",
    "            m2 = np.square(1 * image[i - 1, j] + 2 * image[i - 1, j + 1] -\n",
    "                  1 * image[i, j - 1] + 1 * image[i, j + 1] - 2 * image[i + 1, j - 1] - 1 * image[i + 1, j])\n",
    "            \n",
    "            m3 = np.square(1 * image[i - 1, j - 1] + 2 * image[i - 1, j] + 1 * image[i - 1, j + 1] -\n",
    "                  1 * image[i + 1, j - 1] - 2 * image[i + 1, j] - 1 * image[i + 1, j + 1])\n",
    "            \n",
    "            m4 = np.square(2 * image[i - 1, j - 1] + 1 * image[i - 1, j] + 1 * image[i, j - 1] - \n",
    "                  1 * image[i, j + 1] - 1 * image[i + 1, j] - 2 * image[i + 1, j + 1])\n",
    "            \n",
    "            m5 = np.square(1 * image[i - 1, j - 1] - 1 * image[i - 1, j + 1] + 2 * image[i, j - 1] - \n",
    "                  2 * image[i, j + 1] + 1 * image[i + 1, j - 1] - 1 * image[i + 1, j + 1])\n",
    "            \n",
    "            m6 = np.square((-1) * image[i - 1, j] - 2 * image[i - 1, j + 1] + 1 * image[i, j - 1] - \n",
    "                  1 * image[i, j + 1] + 2 * image[i + 1, j - 1] + 1 * image[i + 1, j])\n",
    "            \n",
    "            m7 = np.square((-1) * image[i - 1, j - 1] - 2 * image[i - 1, j] - 1 * image[i - 1, j + 1] +\n",
    "                  1 * image[i + 1, j - 1] + 2 * image[i + 1, j] + 1 * image[i + 1, j + 1])\n",
    "            \n",
    "            m8 = np.square((-2) * image[i - 1, j - 1] - 1 * image[i - 1, j] - 1 * image[i, j - 1] + \n",
    "                  1 * image[i, j + 1] + 1 * image[i + 1, j] + 2 * image[i + 1, j + 1])\n",
    "\n",
    "            list=[m1, m2, m3, m4, m5, m6, m7, m8]\n",
    "            robinson[i,j]= int(np.sqrt(max(list)))\n",
    "                         \n",
    "    for i in range(m):\n",
    "        for j in range(n):\n",
    "            if robinson[i,j]>127:\n",
    "                robinson[i,j]=255\n",
    "            else:\n",
    "                robinson[i,j]=0\n",
    "    return robinson"
   ]
  },
  {
   "cell_type": "code",
   "execution_count": 15,
   "metadata": {},
   "outputs": [
    {
     "data": {
      "image/png": "[encoded data removed]",
      "text/plain": [
       "<Figure size 432x288 with 1 Axes>"
      ]
     },
     "metadata": {
      "needs_background": "light"
     },
     "output_type": "display_data"
    },
    {
     "data": {
      "image/png": "[encoded data removed]",
      "text/plain": [
       "<Figure size 432x288 with 1 Axes>"
      ]
     },
     "metadata": {
      "needs_background": "light"
     },
     "output_type": "display_data"
    },
    {
     "data": {
      "image/png": "[encoded data removed]",
      "text/plain": [
       "<Figure size 432x288 with 1 Axes>"
      ]
     },
     "metadata": {
      "needs_background": "light"
     },
     "output_type": "display_data"
    }
   ],
   "source": [
    "output1 = kirsch(image)\n",
    "output2 = robinson(image)\n",
    "\n",
    "image = cv2.resize(image, (800, 600))\n",
    "output1 = cv2.resize(output1, (800, 600))\n",
    "output2 = cv2.resize(output2, (800, 600))\n",
    "\n",
    "plt.hist(image.ravel(),256,[0,256]);\n",
    "plt.show()\n",
    "plt.hist(output1.ravel(),256,[0,256]); \n",
    "plt.show()\n",
    "plt.hist(output2.ravel(),256,[0,256]); \n",
    "plt.show()\n",
    "\n"
   ]
  },
  {
   "cell_type": "code",
   "execution_count": 16,
   "metadata": {},
   "outputs": [],
   "source": [
    "cv2.imshow('Original Image', image)\n",
    "cv2.imshow('Output Kirsch', output1)\n",
    "cv2.imshow('Output Robinson', output2)\n",
    "if cv2.waitKey(0) & 0xFF == 27:\n",
    "    cv2.destroyAllWindows()"
   ]
  },
  {
   "cell_type": "code",
   "execution_count": null,
   "metadata": {},
   "outputs": [],
   "source": []
  }
 ],
 "metadata": {
  "kernelspec": {
   "display_name": "Python 3",
   "language": "python",
   "name": "python3"
  },
  "language_info": {
   "codemirror_mode": {
    "name": "ipython",
    "version": 3
   },
   "file_extension": ".py",
   "mimetype": "text/x-python",
   "name": "python",
   "nbconvert_exporter": "python",
   "pygments_lexer": "ipython3",
   "version": "3.7.4"
  }
 },
 "nbformat": 4,
 "nbformat_minor": 2
}
